{
 "cells": [
  {
   "cell_type": "code",
   "execution_count": 1,
   "metadata": {},
   "outputs": [
    {
     "name": "stdout",
     "output_type": "stream",
     "text": [
      "pygame 1.9.4\n",
      "Hello from the pygame community. https://www.pygame.org/contribute.html\n"
     ]
    }
   ],
   "source": [
    "from OpenGL.GL import *\n",
    "from OpenGL.GLU import *\n",
    "import pygame, pygame.image\n",
    "from pygame.locals import *"
   ]
  },
  {
   "cell_type": "code",
   "execution_count": 2,
   "metadata": {
    "collapsed": true
   },
   "outputs": [],
   "source": [
    "def set_projection_from_camera(K):\n",
    "    \"\"\"  Set view from a camera calibration matrix. \"\"\"\n",
    "\n",
    "    glMatrixMode(GL_PROJECTION)\n",
    "    glLoadIdentity()\n",
    "    \n",
    "    fx = K[0,0]\n",
    "    fy = K[1,1]\n",
    "    fovy = 2*arctan(0.5*height/fy)*180/pi\n",
    "    aspect = (width*fy)/(height*fx)\n",
    "\n",
    "    # define the near and far clipping planes\n",
    "    near = 0.1\n",
    "    far = 100.0\n",
    "\n",
    "    # set perspective\n",
    "    gluPerspective(fovy,aspect,near,far)\n",
    "    glViewport(0,0,width,height)"
   ]
  },
  {
   "cell_type": "code",
   "execution_count": 3,
   "metadata": {
    "collapsed": true
   },
   "outputs": [],
   "source": [
    "def set_modelview_from_camera(Rt):\n",
    "    \"\"\"  Set the model view matrix from camera pose. \"\"\"\n",
    "\n",
    "    glMatrixMode(GL_MODELVIEW)\n",
    "    glLoadIdentity()\n",
    "\n",
    "    # rotate teapot 90 deg around x-axis so that z-axis is up\n",
    "    Rx = array([[1,0,0],[0,0,-1],[0,1,0]])\n",
    "\n",
    "    # set rotation to best approximation\n",
    "    R = Rt[:,:3]\n",
    "    U,S,V = linalg.svd(R)\n",
    "    R = dot(U,V)\n",
    "    R[0,:] = -R[0,:] # change sign of x-axis\n",
    "\n",
    "    # set translation\n",
    "    t = Rt[:,3]\n",
    "\n",
    "    # setup 4*4 model view matrix\n",
    "    M = eye(4)\n",
    "    M[:3,:3] = dot(R,Rx)\n",
    "    M[:3,3] = t\n",
    "\n",
    "    # transpose and flatten to get column order\n",
    "    M = M.T\n",
    "    m = M.flatten()\n",
    "\n",
    "    # replace model view with the new matrix\n",
    "    glLoadMatrixf(m)"
   ]
  },
  {
   "cell_type": "code",
   "execution_count": 5,
   "metadata": {
    "collapsed": true
   },
   "outputs": [],
   "source": [
    "def draw_background(imname):\n",
    "    \"\"\"  Draw background image using a quad. \"\"\"\n",
    "    \n",
    "    # load background image (should be .bmp) to OpenGL texture\n",
    "    bg_image = pygame.image.load(imname).convert()\n",
    "    bg_data = pygame.image.tostring(bg_image,\"RGBX\",1)\n",
    "    \n",
    "    glMatrixMode(GL_MODELVIEW)\n",
    "    glLoadIdentity()\n",
    "    glClear(GL_COLOR_BUFFER_BIT | GL_DEPTH_BUFFER_BIT)\n",
    "    \n",
    "    # bind the texture\n",
    "    glEnable(GL_TEXTURE_2D)\n",
    "    glBindTexture(GL_TEXTURE_2D,glGenTextures(1))\n",
    "    glTexImage2D(GL_TEXTURE_2D,0,GL_RGBA,width,height,0,GL_RGBA,GL_UNSIGNED_BYTE,bg_data)\n",
    "    glTexParameterf(GL_TEXTURE_2D,GL_TEXTURE_MAG_FILTER,GL_NEAREST)\n",
    "    glTexParameterf(GL_TEXTURE_2D,GL_TEXTURE_MIN_FILTER,GL_NEAREST)\n",
    "    \n",
    "    # create quad to fill the whole window\n",
    "    glBegin(GL_QUADS)\n",
    "    glTexCoord2f(0.0,0.0); glVertex3f(-1.0,-1.0,-1.0)\n",
    "    glTexCoord2f(1.0,0.0); glVertex3f( 1.0,-1.0,-1.0)\n",
    "    glTexCoord2f(1.0,1.0); glVertex3f( 1.0, 1.0,-1.0)\n",
    "    glTexCoord2f(0.0,1.0); glVertex3f(-1.0, 1.0,-1.0)\n",
    "    glEnd()\n",
    "    \n",
    "    # clear the texture\n",
    "    glDeleteTextures(1)"
   ]
  },
  {
   "cell_type": "code",
   "execution_count": 11,
   "metadata": {},
   "outputs": [
    {
     "ename": "NameError",
     "evalue": "name 'size' is not defined",
     "output_type": "error",
     "traceback": [
      "\u001b[0;31m---------------------------------------------------------------------------\u001b[0m",
      "\u001b[0;31mNameError\u001b[0m                                 Traceback (most recent call last)",
      "\u001b[0;32m<ipython-input-11-7213954dbace>\u001b[0m in \u001b[0;36m<module>\u001b[0;34m\u001b[0m\n\u001b[1;32m      1\u001b[0m \u001b[0;32mfrom\u001b[0m \u001b[0mOpenGL\u001b[0m\u001b[0;34m.\u001b[0m\u001b[0mGLUT\u001b[0m \u001b[0;32mimport\u001b[0m \u001b[0;34m*\u001b[0m\u001b[0;34m\u001b[0m\u001b[0;34m\u001b[0m\u001b[0m\n\u001b[0;32m----> 2\u001b[0;31m \u001b[0mglutSolidTeapot\u001b[0m\u001b[0;34m(\u001b[0m\u001b[0msize\u001b[0m\u001b[0;34m)\u001b[0m\u001b[0;34m\u001b[0m\u001b[0;34m\u001b[0m\u001b[0m\n\u001b[0m",
      "\u001b[0;31mNameError\u001b[0m: name 'size' is not defined"
     ]
    }
   ],
   "source": [
    "from OpenGL.GLUT import *\n",
    "glutSolidTeapot(size)"
   ]
  },
  {
   "cell_type": "code",
   "execution_count": 12,
   "metadata": {
    "collapsed": true
   },
   "outputs": [],
   "source": [
    "def draw_teapot(size):\n",
    "    \"\"\" Draw a red teapot at the origin. \"\"\"\n",
    "    glEnable(GL_LIGHTING)\n",
    "    glEnable(GL_LIGHT0)\n",
    "    glEnable(GL_DEPTH_TEST)\n",
    "    glClear(GL_DEPTH_BUFFER_BIT)\n",
    "\n",
    "    # draw red teapot\n",
    "    glMaterialfv(GL_FRONT,GL_AMBIENT,[0,0,0,0])\n",
    "    glMaterialfv(GL_FRONT,GL_DIFFUSE,[0.5,0.0,0.0,0.0])\n",
    "    glMaterialfv(GL_FRONT,GL_SPECULAR,[0.7,0.6,0.6,0.0])\n",
    "    glMaterialf(GL_FRONT,GL_SHININESS,0.25*128.0)\n",
    "    glutSolidTeapot(size)"
   ]
  },
  {
   "cell_type": "code",
   "execution_count": 1,
   "metadata": {},
   "outputs": [
    {
     "name": "stdout",
     "output_type": "stream",
     "text": [
      "pygame 1.9.4\n",
      "Hello from the pygame community. https://www.pygame.org/contribute.html\n"
     ]
    },
    {
     "ename": "NameError",
     "evalue": "name 'draw_background' is not defined",
     "output_type": "error",
     "traceback": [
      "\u001b[0;31m---------------------------------------------------------------------------\u001b[0m",
      "\u001b[0;31mNameError\u001b[0m                                 Traceback (most recent call last)",
      "\u001b[0;32m<ipython-input-1-817fb48a4276>\u001b[0m in \u001b[0;36m<module>\u001b[0;34m\u001b[0m\n\u001b[1;32m     20\u001b[0m \u001b[0;34m\u001b[0m\u001b[0m\n\u001b[1;32m     21\u001b[0m \u001b[0msetup\u001b[0m\u001b[0;34m(\u001b[0m\u001b[0;34m)\u001b[0m\u001b[0;34m\u001b[0m\u001b[0;34m\u001b[0m\u001b[0m\n\u001b[0;32m---> 22\u001b[0;31m \u001b[0mdraw_background\u001b[0m\u001b[0;34m(\u001b[0m\u001b[0;34m'test.bmp'\u001b[0m\u001b[0;34m)\u001b[0m\u001b[0;34m\u001b[0m\u001b[0;34m\u001b[0m\u001b[0m\n\u001b[0m\u001b[1;32m     23\u001b[0m \u001b[0mset_projection_from_camera\u001b[0m\u001b[0;34m(\u001b[0m\u001b[0mK\u001b[0m\u001b[0;34m)\u001b[0m\u001b[0;34m\u001b[0m\u001b[0;34m\u001b[0m\u001b[0m\n\u001b[1;32m     24\u001b[0m \u001b[0mset_modelview_from_camera\u001b[0m\u001b[0;34m(\u001b[0m\u001b[0mRt\u001b[0m\u001b[0;34m)\u001b[0m\u001b[0;34m\u001b[0m\u001b[0;34m\u001b[0m\u001b[0m\n",
      "\u001b[0;31mNameError\u001b[0m: name 'draw_background' is not defined"
     ]
    }
   ],
   "source": [
    "from OpenGL.GL import *\n",
    "from OpenGL.GLU import *\n",
    "from OpenGL.GLUT import *\n",
    "import pygame, pygame.image\n",
    "from pygame.locals import *\n",
    "import pickle\n",
    "\n",
    "width,height = 1000,747\n",
    "\n",
    "def setup():\n",
    "    \"\"\" Setup window and pygame environment. \"\"\"\n",
    "    pygame.init()\n",
    "    pygame.display.set_mode((width,height),OPENGL | DOUBLEBUF)\n",
    "    pygame.display.set_caption('OpenGL AR demo')\n",
    "\n",
    "# load camera data\n",
    "with open('ar_camera.pkl','rb') as f:\n",
    "    K = pickle.load(f)\n",
    "    Rt = pickle.load(f)\n",
    "\n",
    "setup()\n",
    "draw_background('test.bmp')\n",
    "set_projection_from_camera(K)\n",
    "set_modelview_from_camera(Rt)\n",
    "draw_teapot(0.02)\n",
    "\n",
    "while True:\n",
    "    event = pygame.event.poll()\n",
    "    if event.type in (QUIT,KEYDOWN):\n",
    "        break\n",
    "    pygame.display.flip()"
   ]
  },
  {
   "cell_type": "code",
   "execution_count": null,
   "metadata": {
    "collapsed": true
   },
   "outputs": [],
   "source": []
  }
 ],
 "metadata": {
  "kernelspec": {
   "display_name": "Python 3",
   "language": "python",
   "name": "python3"
  },
  "language_info": {
   "codemirror_mode": {
    "name": "ipython",
    "version": 3
   },
   "file_extension": ".py",
   "mimetype": "text/x-python",
   "name": "python",
   "nbconvert_exporter": "python",
   "pygments_lexer": "ipython3",
   "version": "3.6.7"
  }
 },
 "nbformat": 4,
 "nbformat_minor": 2
}
